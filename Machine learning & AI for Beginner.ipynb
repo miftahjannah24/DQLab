{
 "cells": [
  {
   "cell_type": "code",
   "execution_count": 1,
   "metadata": {},
   "outputs": [
    {
     "name": "stdout",
     "output_type": "stream",
     "text": [
      "0\n",
      "CRIM       20\n",
      "ZN         20\n",
      "INDUS      20\n",
      "CHAS       20\n",
      "NOX         0\n",
      "RM          0\n",
      "AGE        20\n",
      "DIS         0\n",
      "RAD         0\n",
      "TAX         0\n",
      "PTRATIO     0\n",
      "B           0\n",
      "LSTAT      20\n",
      "MEDV        0\n",
      "dtype: int64\n",
      "(394, 14)\n"
     ]
    }
   ],
   "source": [
    "import pandas as pd\n",
    "\n",
    "# Load Dataset\n",
    "df = pd.read_csv('https://storage.googleapis.com/dqlab-dataset/HousingData.csv')\n",
    "\n",
    "# Tampilkan jumlah data duplikat\n",
    "print(df.duplicated().sum())\n",
    "\n",
    "# Tampilkan jumlah data yang missing per kolom\n",
    "print(df.isna().sum())\n",
    "\n",
    "# Drop baris yang mempunyai baris kosong\n",
    "df = df.dropna()\n",
    "\n",
    "# Tampilkan berapa baris dan kolom sisa dari data yang sudah didrop\n",
    "print(df.shape)"
   ]
  }
 ],
 "metadata": {
  "kernelspec": {
   "display_name": "Python 3",
   "language": "python",
   "name": "python3"
  },
  "language_info": {
   "codemirror_mode": {
    "name": "ipython",
    "version": 3
   },
   "file_extension": ".py",
   "mimetype": "text/x-python",
   "name": "python",
   "nbconvert_exporter": "python",
   "pygments_lexer": "ipython3",
   "version": "3.10.0"
  }
 },
 "nbformat": 4,
 "nbformat_minor": 2
}
