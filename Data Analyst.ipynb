{
 "cells": [
  {
   "cell_type": "code",
   "execution_count": 1,
   "metadata": {},
   "outputs": [
    {
     "name": "stdout",
     "output_type": "stream",
     "text": [
      "         Order_ID Customer_ID  Postal_Code       Product_ID     Sales   \n",
      "0  CA-2019-152156    CG-12520        42420  FUR-BO-10001798  261.9600  \\\n",
      "1  CA-2019-152156    CG-12520        42420  FUR-CH-10000454  731.9400   \n",
      "2  CA-2019-138688    DV-13045        90036  OFF-LA-10000240   14.6200   \n",
      "3  US-2018-108966    SO-20335        33311  FUR-TA-10000577  957.5775   \n",
      "4  US-2018-108966    SO-20335        33311  OFF-ST-10000760   22.3680   \n",
      "\n",
      "   Quantity  Discount    Profit         Category Sub-Category  ...   \n",
      "0         2      0.00   41.9136        Furniture    Bookcases  ...  \\\n",
      "1         3      0.00  219.5820        Furniture       Chairs  ...   \n",
      "2         2      0.00    6.8714  Office Supplies       Labels  ...   \n",
      "3         5      0.45 -383.0310        Furniture       Tables  ...   \n",
      "4         2      0.20    2.5164  Office Supplies      Storage  ...   \n",
      "\n",
      "    Ship_Date       Ship_Mode    Customer_Name    Segment Country/Region   \n",
      "0  11/11/2019    Second Class      Claire Gute   Consumer  United States  \\\n",
      "1  11/11/2019    Second Class      Claire Gute   Consumer  United States   \n",
      "2   6/16/2019    Second Class  Darrin Van Huff  Corporate  United States   \n",
      "3  10/18/2018  Standard Class   Sean O'Donnell   Consumer  United States   \n",
      "4  10/18/2018  Standard Class   Sean O'Donnell   Consumer  United States   \n",
      "\n",
      "              City       State Region First_Name  Last_Name  \n",
      "0        Henderson    Kentucky  South     Claire       Gute  \n",
      "1        Henderson    Kentucky  South     Claire       Gute  \n",
      "2      Los Angeles  California   West     Darrin   Van Huff  \n",
      "3  Fort Lauderdale     Florida  South       Sean  O'Donnell  \n",
      "4  Fort Lauderdale     Florida  South       Sean  O'Donnell  \n",
      "\n",
      "[5 rows x 22 columns]\n"
     ]
    }
   ],
   "source": [
    "import pandas as pd\n",
    "\n",
    "# load dataset\n",
    "dataset = 'https://storage.googleapis.com/dqlab-dataset/SuperStore.csv'\n",
    "df = pd.read_csv(dataset);\n",
    "\n",
    "# Pisahkan Customer Name menjadi dua komponen yaitu First_Name dan Last_Name\n",
    "name = df['Customer_Name'].iloc[0]\n",
    "df['First_Name'] = df['Customer_Name'].apply(lambda name: name.split()[0])\n",
    "df['Last_Name'] = df['Customer_Name'].apply(lambda name: ' '.join(name.split()[1:]) if len(name.split()) > 1 else '')\n",
    "\n",
    "# tampilkan 5 baris pertama\n",
    "print(df.head())"
   ]
  }
 ],
 "metadata": {
  "kernelspec": {
   "display_name": "Python 3",
   "language": "python",
   "name": "python3"
  },
  "language_info": {
   "codemirror_mode": {
    "name": "ipython",
    "version": 3
   },
   "file_extension": ".py",
   "mimetype": "text/x-python",
   "name": "python",
   "nbconvert_exporter": "python",
   "pygments_lexer": "ipython3",
   "version": "3.10.0"
  }
 },
 "nbformat": 4,
 "nbformat_minor": 2
}
